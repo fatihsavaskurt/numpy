{
 "cells": [
  {
   "cell_type": "code",
   "execution_count": 1,
   "id": "29b0052a",
   "metadata": {},
   "outputs": [],
   "source": [
    "import numpy as np"
   ]
  },
  {
   "cell_type": "code",
   "execution_count": 2,
   "id": "f3aabfc7",
   "metadata": {},
   "outputs": [],
   "source": [
    "my_list = [10,20,30]"
   ]
  },
  {
   "cell_type": "code",
   "execution_count": 4,
   "id": "6dd81ff8",
   "metadata": {},
   "outputs": [],
   "source": [
    "#numpy'da diziler vardır. liste gibidir, ancak numpyin kuralları daha farklı."
   ]
  },
  {
   "cell_type": "code",
   "execution_count": 3,
   "id": "f88781c4",
   "metadata": {},
   "outputs": [
    {
     "data": {
      "text/plain": [
       "list"
      ]
     },
     "execution_count": 3,
     "metadata": {},
     "output_type": "execute_result"
    }
   ],
   "source": [
    "type(my_list)"
   ]
  },
  {
   "cell_type": "code",
   "execution_count": 5,
   "id": "22e1a64b",
   "metadata": {},
   "outputs": [
    {
     "data": {
      "text/plain": [
       "array([10, 20, 30])"
      ]
     },
     "execution_count": 5,
     "metadata": {},
     "output_type": "execute_result"
    }
   ],
   "source": [
    "np.array(my_list)"
   ]
  },
  {
   "cell_type": "code",
   "execution_count": 6,
   "id": "c8823b57",
   "metadata": {},
   "outputs": [],
   "source": [
    "my_array = np.array(my_list)"
   ]
  },
  {
   "cell_type": "code",
   "execution_count": 7,
   "id": "d2fb29a7",
   "metadata": {},
   "outputs": [
    {
     "data": {
      "text/plain": [
       "numpy.ndarray"
      ]
     },
     "execution_count": 7,
     "metadata": {},
     "output_type": "execute_result"
    }
   ],
   "source": [
    "type(my_array)"
   ]
  },
  {
   "cell_type": "code",
   "execution_count": 8,
   "id": "a0ac928a",
   "metadata": {},
   "outputs": [
    {
     "data": {
      "text/plain": [
       "30"
      ]
     },
     "execution_count": 8,
     "metadata": {},
     "output_type": "execute_result"
    }
   ],
   "source": [
    "my_array.max()"
   ]
  },
  {
   "cell_type": "code",
   "execution_count": 10,
   "id": "5aff298d",
   "metadata": {},
   "outputs": [
    {
     "data": {
      "text/plain": [
       "array([1., 1., 1., 1., 1.])"
      ]
     },
     "execution_count": 10,
     "metadata": {},
     "output_type": "execute_result"
    }
   ],
   "source": [
    "np.ones(5)"
   ]
  },
  {
   "cell_type": "code",
   "execution_count": 12,
   "id": "4786412f",
   "metadata": {},
   "outputs": [
    {
     "data": {
      "text/plain": [
       "array([0., 0., 0., 0.])"
      ]
     },
     "execution_count": 12,
     "metadata": {},
     "output_type": "execute_result"
    }
   ],
   "source": [
    "np.zeros(4)"
   ]
  },
  {
   "cell_type": "code",
   "execution_count": 9,
   "id": "9ff06132",
   "metadata": {},
   "outputs": [
    {
     "data": {
      "text/plain": [
       "array([0.06418079, 0.7691091 , 0.16014808, 0.9039491 , 0.21030732,\n",
       "       0.16607623])"
      ]
     },
     "execution_count": 9,
     "metadata": {},
     "output_type": "execute_result"
    }
   ],
   "source": [
    "np.random.random(6)"
   ]
  },
  {
   "cell_type": "code",
   "execution_count": 30,
   "id": "f24a6926",
   "metadata": {},
   "outputs": [],
   "source": [
    "# dizi aritmetiği"
   ]
  },
  {
   "cell_type": "code",
   "execution_count": 20,
   "id": "d7e34cdb",
   "metadata": {},
   "outputs": [],
   "source": [
    "data = np.arange(0,6,1)"
   ]
  },
  {
   "cell_type": "code",
   "execution_count": 21,
   "id": "6cd52309",
   "metadata": {},
   "outputs": [
    {
     "data": {
      "text/plain": [
       "array([0, 1, 2, 3, 4, 5])"
      ]
     },
     "execution_count": 21,
     "metadata": {},
     "output_type": "execute_result"
    }
   ],
   "source": [
    "data"
   ]
  },
  {
   "cell_type": "code",
   "execution_count": 27,
   "id": "6a8224aa",
   "metadata": {},
   "outputs": [],
   "source": [
    "ones = np.ones(6)"
   ]
  },
  {
   "cell_type": "code",
   "execution_count": 28,
   "id": "67c06a34",
   "metadata": {},
   "outputs": [
    {
     "data": {
      "text/plain": [
       "array([1., 1., 1., 1., 1., 1.])"
      ]
     },
     "execution_count": 28,
     "metadata": {},
     "output_type": "execute_result"
    }
   ],
   "source": [
    "ones"
   ]
  },
  {
   "cell_type": "code",
   "execution_count": 31,
   "id": "9297793a",
   "metadata": {},
   "outputs": [
    {
     "data": {
      "text/plain": [
       "array([1., 2., 3., 4., 5., 6.])"
      ]
     },
     "execution_count": 31,
     "metadata": {},
     "output_type": "execute_result"
    }
   ],
   "source": [
    "data + ones #broadcast"
   ]
  },
  {
   "cell_type": "code",
   "execution_count": 32,
   "id": "4fbadf29",
   "metadata": {},
   "outputs": [],
   "source": [
    "# arange and indexing"
   ]
  },
  {
   "cell_type": "code",
   "execution_count": 33,
   "id": "6087d2c3",
   "metadata": {},
   "outputs": [
    {
     "data": {
      "text/plain": [
       "[0, 1, 2, 3, 4]"
      ]
     },
     "execution_count": 33,
     "metadata": {},
     "output_type": "execute_result"
    }
   ],
   "source": [
    "list(range(0,5))"
   ]
  },
  {
   "cell_type": "code",
   "execution_count": 34,
   "id": "c9559567",
   "metadata": {},
   "outputs": [
    {
     "data": {
      "text/plain": [
       "[0, 2, 4]"
      ]
     },
     "execution_count": 34,
     "metadata": {},
     "output_type": "execute_result"
    }
   ],
   "source": [
    "list(range(0,5,2))"
   ]
  },
  {
   "cell_type": "code",
   "execution_count": 36,
   "id": "7d60c2ce",
   "metadata": {},
   "outputs": [
    {
     "data": {
      "text/plain": [
       "array([0, 1, 2, 3, 4])"
      ]
     },
     "execution_count": 36,
     "metadata": {},
     "output_type": "execute_result"
    }
   ],
   "source": [
    "np.arange(0,5)"
   ]
  },
  {
   "cell_type": "code",
   "execution_count": 37,
   "id": "e75e8d04",
   "metadata": {},
   "outputs": [
    {
     "data": {
      "text/plain": [
       "array([0, 2, 4])"
      ]
     },
     "execution_count": 37,
     "metadata": {},
     "output_type": "execute_result"
    }
   ],
   "source": [
    "np.arange(0,5,2)"
   ]
  },
  {
   "cell_type": "code",
   "execution_count": 42,
   "id": "0e10a7b2",
   "metadata": {},
   "outputs": [],
   "source": [
    "np_array = np.arange(0,10,2)"
   ]
  },
  {
   "cell_type": "code",
   "execution_count": 43,
   "id": "56190c7f",
   "metadata": {},
   "outputs": [
    {
     "data": {
      "text/plain": [
       "array([0, 2, 4, 6, 8])"
      ]
     },
     "execution_count": 43,
     "metadata": {},
     "output_type": "execute_result"
    }
   ],
   "source": [
    "np_array"
   ]
  },
  {
   "cell_type": "code",
   "execution_count": 45,
   "id": "53681c39",
   "metadata": {},
   "outputs": [
    {
     "data": {
      "text/plain": [
       "6"
      ]
     },
     "execution_count": 45,
     "metadata": {},
     "output_type": "execute_result"
    }
   ],
   "source": [
    "np_array[3]"
   ]
  },
  {
   "cell_type": "code",
   "execution_count": 46,
   "id": "a498ffc3",
   "metadata": {},
   "outputs": [
    {
     "data": {
      "text/plain": [
       "8"
      ]
     },
     "execution_count": 46,
     "metadata": {},
     "output_type": "execute_result"
    }
   ],
   "source": [
    "np_array[-1]"
   ]
  },
  {
   "cell_type": "code",
   "execution_count": 47,
   "id": "aff6454a",
   "metadata": {},
   "outputs": [
    {
     "data": {
      "text/plain": [
       "array([2, 4])"
      ]
     },
     "execution_count": 47,
     "metadata": {},
     "output_type": "execute_result"
    }
   ],
   "source": [
    "np_array[1:3]"
   ]
  },
  {
   "cell_type": "code",
   "execution_count": 48,
   "id": "131b3a43",
   "metadata": {},
   "outputs": [],
   "source": [
    "#random"
   ]
  },
  {
   "cell_type": "code",
   "execution_count": 52,
   "id": "e790418f",
   "metadata": {},
   "outputs": [],
   "source": [
    "matrix_test = np.random.randn(5,5)"
   ]
  },
  {
   "cell_type": "code",
   "execution_count": 54,
   "id": "96ddf0f2",
   "metadata": {},
   "outputs": [
    {
     "data": {
      "text/plain": [
       "array([[ 0.36989435,  0.33409818, -0.34654452,  0.06643225,  0.74071401],\n",
       "       [-0.67976046, -0.28106566,  0.18219846,  0.82760621, -1.16325165],\n",
       "       [-0.60909093, -0.93634975, -1.09840448, -0.29518664,  0.25592284],\n",
       "       [-1.71419223,  0.28167527, -0.25919158, -1.18574436, -1.06475152],\n",
       "       [ 0.64114611, -1.28221165,  0.99310576,  0.24711337,  0.49655039]])"
      ]
     },
     "execution_count": 54,
     "metadata": {},
     "output_type": "execute_result"
    }
   ],
   "source": [
    "matrix_test"
   ]
  },
  {
   "cell_type": "code",
   "execution_count": 57,
   "id": "64649ba2",
   "metadata": {},
   "outputs": [
    {
     "data": {
      "text/plain": [
       "array([[ 0.36989435,  0.33409818, -0.34654452,  0.06643225,  0.74071401],\n",
       "       [-0.67976046, -0.28106566,  0.18219846,  0.82760621, -1.16325165]])"
      ]
     },
     "execution_count": 57,
     "metadata": {},
     "output_type": "execute_result"
    }
   ],
   "source": [
    "matrix_test[0:2]"
   ]
  },
  {
   "cell_type": "code",
   "execution_count": 51,
   "id": "ed74c0a3",
   "metadata": {
    "scrolled": true
   },
   "outputs": [
    {
     "data": {
      "text/plain": [
       "array([15, 54,  3, 35, 96])"
      ]
     },
     "execution_count": 51,
     "metadata": {},
     "output_type": "execute_result"
    }
   ],
   "source": [
    "np.random.randint(1,100,5)"
   ]
  },
  {
   "cell_type": "code",
   "execution_count": 85,
   "id": "412700e2",
   "metadata": {},
   "outputs": [],
   "source": [
    "float_matrix1 = np.random.uniform(0,100, size = (2,2))"
   ]
  },
  {
   "cell_type": "code",
   "execution_count": 86,
   "id": "a16bdf3b",
   "metadata": {},
   "outputs": [
    {
     "data": {
      "text/plain": [
       "array([[41.37069374, 55.50672745],\n",
       "       [25.32601435, 20.53005715]])"
      ]
     },
     "execution_count": 86,
     "metadata": {},
     "output_type": "execute_result"
    }
   ],
   "source": [
    "float_matrix1"
   ]
  },
  {
   "cell_type": "code",
   "execution_count": 87,
   "id": "ccaf98ea",
   "metadata": {},
   "outputs": [],
   "source": [
    "float_matrix2 = np.random.uniform(0,100, size = (2,2))"
   ]
  },
  {
   "cell_type": "code",
   "execution_count": 88,
   "id": "587b117f",
   "metadata": {},
   "outputs": [
    {
     "data": {
      "text/plain": [
       "array([[10.80073116, 90.43749177],\n",
       "       [81.78865685, 44.62221773]])"
      ]
     },
     "execution_count": 88,
     "metadata": {},
     "output_type": "execute_result"
    }
   ],
   "source": [
    "float_matrix2"
   ]
  },
  {
   "cell_type": "code",
   "execution_count": 89,
   "id": "7681e651",
   "metadata": {},
   "outputs": [
    {
     "data": {
      "text/plain": [
       "array([[ 446.83374099, 5019.88920655],\n",
       "       [2071.38069738,  916.09668017]])"
      ]
     },
     "execution_count": 89,
     "metadata": {},
     "output_type": "execute_result"
    }
   ],
   "source": [
    "float_matrix1*float_matrix2"
   ]
  }
 ],
 "metadata": {
  "kernelspec": {
   "display_name": "Python 3 (ipykernel)",
   "language": "python",
   "name": "python3"
  },
  "language_info": {
   "codemirror_mode": {
    "name": "ipython",
    "version": 3
   },
   "file_extension": ".py",
   "mimetype": "text/x-python",
   "name": "python",
   "nbconvert_exporter": "python",
   "pygments_lexer": "ipython3",
   "version": "3.9.7"
  }
 },
 "nbformat": 4,
 "nbformat_minor": 5
}
