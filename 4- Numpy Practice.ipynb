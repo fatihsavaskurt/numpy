{
 "cells": [
  {
   "cell_type": "code",
   "execution_count": null,
   "id": "5af3e2a4",
   "metadata": {},
   "outputs": [],
   "source": [
    " # Using a NumPy function, how would you create a one-dimensional NumPy array of the numbers from 10 to 100, counting by 10?\n",
    "\n"
   ]
  },
  {
   "cell_type": "code",
   "execution_count": 2,
   "id": "999b59cd",
   "metadata": {},
   "outputs": [],
   "source": [
    "import numpy as np"
   ]
  },
  {
   "cell_type": "code",
   "execution_count": 6,
   "id": "1dc1bf50",
   "metadata": {},
   "outputs": [],
   "source": [
    "first_array = np.arange(10,110,10)"
   ]
  },
  {
   "cell_type": "code",
   "execution_count": 7,
   "id": "2e4d7d4c",
   "metadata": {},
   "outputs": [
    {
     "data": {
      "text/plain": [
       "array([ 10,  20,  30,  40,  50,  60,  70,  80,  90, 100])"
      ]
     },
     "execution_count": 7,
     "metadata": {},
     "output_type": "execute_result"
    }
   ],
   "source": [
    "first_array"
   ]
  },
  {
   "cell_type": "code",
   "execution_count": 8,
   "id": "82c47903",
   "metadata": {},
   "outputs": [],
   "source": [
    "# How could you create the same NumPy array using a Python range and a list?"
   ]
  },
  {
   "cell_type": "code",
   "execution_count": 9,
   "id": "c44fc4c5",
   "metadata": {},
   "outputs": [
    {
     "data": {
      "text/plain": [
       "array([ 10,  20,  30,  40,  50,  60,  70,  80,  90, 100])"
      ]
     },
     "execution_count": 9,
     "metadata": {},
     "output_type": "execute_result"
    }
   ],
   "source": [
    "np.array([i for i in range(10,110,10)])"
   ]
  },
  {
   "cell_type": "code",
   "execution_count": 10,
   "id": "39fac39a",
   "metadata": {},
   "outputs": [],
   "source": [
    "# How would you create a ten-element NumPy array object of all zeros\n"
   ]
  },
  {
   "cell_type": "code",
   "execution_count": 11,
   "id": "94f5a40c",
   "metadata": {},
   "outputs": [
    {
     "data": {
      "text/plain": [
       "array([0., 0., 0., 0., 0., 0., 0., 0., 0., 0.])"
      ]
     },
     "execution_count": 11,
     "metadata": {},
     "output_type": "execute_result"
    }
   ],
   "source": [
    "np.zeros(10)"
   ]
  },
  {
   "cell_type": "code",
   "execution_count": 12,
   "id": "de24d168",
   "metadata": {},
   "outputs": [],
   "source": [
    "# How could you create a ten-element array of random integers between 1 and 5 (inclusive)?\n",
    "\n"
   ]
  },
  {
   "cell_type": "code",
   "execution_count": 14,
   "id": "a76d37b9",
   "metadata": {},
   "outputs": [
    {
     "data": {
      "text/plain": [
       "array([4, 2, 3, 4, 2, 2, 1, 1, 4, 5])"
      ]
     },
     "execution_count": 14,
     "metadata": {},
     "output_type": "execute_result"
    }
   ],
   "source": [
    "np.random.randint(1,6,10)"
   ]
  },
  {
   "cell_type": "code",
   "execution_count": 17,
   "id": "ab1feeb3",
   "metadata": {},
   "outputs": [],
   "source": [
    "# # np.random.randfloat(1,6,10)"
   ]
  },
  {
   "cell_type": "code",
   "execution_count": 20,
   "id": "d3953524",
   "metadata": {},
   "outputs": [
    {
     "data": {
      "text/plain": [
       "array([6.91230556e-01, 8.28871081e-04, 1.41975585e-01, 1.49138888e-01,\n",
       "       4.66660585e-01, 4.84523270e-01, 1.32203706e-01, 2.66666007e-01,\n",
       "       5.61114635e-01, 9.25804034e-01])"
      ]
     },
     "execution_count": 20,
     "metadata": {},
     "output_type": "execute_result"
    }
   ],
   "source": [
    "np.random.rand(10)"
   ]
  }
 ],
 "metadata": {
  "kernelspec": {
   "display_name": "Python 3 (ipykernel)",
   "language": "python",
   "name": "python3"
  },
  "language_info": {
   "codemirror_mode": {
    "name": "ipython",
    "version": 3
   },
   "file_extension": ".py",
   "mimetype": "text/x-python",
   "name": "python",
   "nbconvert_exporter": "python",
   "pygments_lexer": "ipython3",
   "version": "3.9.7"
  }
 },
 "nbformat": 4,
 "nbformat_minor": 5
}
