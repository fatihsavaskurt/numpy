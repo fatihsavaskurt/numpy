{
 "cells": [
  {
   "cell_type": "code",
   "execution_count": 1,
   "id": "be2a4bde",
   "metadata": {},
   "outputs": [],
   "source": [
    "import numpy as np"
   ]
  },
  {
   "cell_type": "code",
   "execution_count": 2,
   "id": "6a1e3730",
   "metadata": {},
   "outputs": [],
   "source": [
    "new_array = np.random.randint(1,100,20)"
   ]
  },
  {
   "cell_type": "code",
   "execution_count": 3,
   "id": "ee4aee7c",
   "metadata": {},
   "outputs": [
    {
     "data": {
      "text/plain": [
       "array([ 5, 96, 82, 75, 98,  9, 68, 28, 82, 76,  9, 73, 83, 55, 78, 44,  6,\n",
       "       19, 18, 32])"
      ]
     },
     "execution_count": 3,
     "metadata": {},
     "output_type": "execute_result"
    }
   ],
   "source": [
    "new_array"
   ]
  },
  {
   "cell_type": "code",
   "execution_count": 4,
   "id": "e03a5b80",
   "metadata": {},
   "outputs": [
    {
     "data": {
      "text/plain": [
       "array([False,  True,  True,  True,  True, False,  True,  True,  True,\n",
       "        True, False,  True,  True,  True,  True,  True, False, False,\n",
       "       False,  True])"
      ]
     },
     "execution_count": 4,
     "metadata": {},
     "output_type": "execute_result"
    }
   ],
   "source": [
    "new_array > 25"
   ]
  },
  {
   "cell_type": "code",
   "execution_count": 5,
   "id": "2dbd1e8f",
   "metadata": {},
   "outputs": [
    {
     "data": {
      "text/plain": [
       "array([96, 82, 75, 98, 68, 28, 82, 76, 73, 83, 55, 78, 44, 32])"
      ]
     },
     "execution_count": 5,
     "metadata": {},
     "output_type": "execute_result"
    }
   ],
   "source": [
    "new_array[new_array > 25]"
   ]
  },
  {
   "cell_type": "code",
   "execution_count": 6,
   "id": "938cf69e",
   "metadata": {},
   "outputs": [],
   "source": [
    "matrix_array = np.array([[10,20],[20,30],[30,40]])"
   ]
  },
  {
   "cell_type": "code",
   "execution_count": 7,
   "id": "7fa8bd27",
   "metadata": {},
   "outputs": [
    {
     "data": {
      "text/plain": [
       "(3, 2)"
      ]
     },
     "execution_count": 7,
     "metadata": {},
     "output_type": "execute_result"
    }
   ],
   "source": [
    "matrix_array.shape"
   ]
  },
  {
   "cell_type": "code",
   "execution_count": 9,
   "id": "047f293f",
   "metadata": {},
   "outputs": [
    {
     "data": {
      "text/plain": [
       "array([[10, 20],\n",
       "       [20, 30],\n",
       "       [30, 40]])"
      ]
     },
     "execution_count": 9,
     "metadata": {},
     "output_type": "execute_result"
    }
   ],
   "source": [
    "matrix_array"
   ]
  },
  {
   "cell_type": "code",
   "execution_count": 8,
   "id": "70fa8ef7",
   "metadata": {},
   "outputs": [
    {
     "data": {
      "text/plain": [
       "array([[10, 20, 30],\n",
       "       [20, 30, 40]])"
      ]
     },
     "execution_count": 8,
     "metadata": {},
     "output_type": "execute_result"
    }
   ],
   "source": [
    "matrix_array.transpose()"
   ]
  },
  {
   "cell_type": "code",
   "execution_count": 17,
   "id": "6f2198f5",
   "metadata": {},
   "outputs": [],
   "source": [
    "random_array = np.random.uniform(0,100,size = (6,1))"
   ]
  },
  {
   "cell_type": "code",
   "execution_count": 18,
   "id": "cfd073ed",
   "metadata": {},
   "outputs": [
    {
     "data": {
      "text/plain": [
       "array([[26.75311701],\n",
       "       [77.27350342],\n",
       "       [80.0855607 ],\n",
       "       [26.13650858],\n",
       "       [29.04741167],\n",
       "       [ 6.05677653]])"
      ]
     },
     "execution_count": 18,
     "metadata": {},
     "output_type": "execute_result"
    }
   ],
   "source": [
    "random_array"
   ]
  },
  {
   "cell_type": "code",
   "execution_count": 20,
   "id": "779a469e",
   "metadata": {},
   "outputs": [
    {
     "data": {
      "text/plain": [
       "(6, 1)"
      ]
     },
     "execution_count": 20,
     "metadata": {},
     "output_type": "execute_result"
    }
   ],
   "source": [
    "random_array.shape"
   ]
  },
  {
   "cell_type": "code",
   "execution_count": 21,
   "id": "c867a912",
   "metadata": {},
   "outputs": [
    {
     "data": {
      "text/plain": [
       "array([[26.75311701, 77.27350342, 80.0855607 ],\n",
       "       [26.13650858, 29.04741167,  6.05677653]])"
      ]
     },
     "execution_count": 21,
     "metadata": {},
     "output_type": "execute_result"
    }
   ],
   "source": [
    "random_array.reshape(2,3)"
   ]
  },
  {
   "cell_type": "code",
   "execution_count": 22,
   "id": "ad7fb316",
   "metadata": {},
   "outputs": [
    {
     "data": {
      "text/plain": [
       "array([[26.75311701, 77.27350342],\n",
       "       [80.0855607 , 26.13650858],\n",
       "       [29.04741167,  6.05677653]])"
      ]
     },
     "execution_count": 22,
     "metadata": {},
     "output_type": "execute_result"
    }
   ],
   "source": [
    "random_array.reshape(3,2)"
   ]
  }
 ],
 "metadata": {
  "kernelspec": {
   "display_name": "Python 3 (ipykernel)",
   "language": "python",
   "name": "python3"
  },
  "language_info": {
   "codemirror_mode": {
    "name": "ipython",
    "version": 3
   },
   "file_extension": ".py",
   "mimetype": "text/x-python",
   "name": "python",
   "nbconvert_exporter": "python",
   "pygments_lexer": "ipython3",
   "version": "3.9.7"
  }
 },
 "nbformat": 4,
 "nbformat_minor": 5
}
